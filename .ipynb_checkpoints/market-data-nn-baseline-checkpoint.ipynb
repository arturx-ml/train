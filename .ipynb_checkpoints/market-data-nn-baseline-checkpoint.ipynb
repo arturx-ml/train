{
 "cells": [
  {
   "cell_type": "markdown",
   "metadata": {
    "_uuid": "512d64e04ad0533dd72ca6bcbca4882a7f289956"
   },
   "source": [
    "# Market Data Only Baseline\n",
    "\n",
    "Using a lot of ideas from XGBoost Baseline Kernel.\n",
    "\n",
    "This is a fit of market data only (no news data used) showing relatively good results. "
   ]
  },
  {
   "cell_type": "code",
   "execution_count": 5,
   "metadata": {
    "_cell_guid": "b1076dfc-b9ad-4769-8c92-a6c4dae69d19",
    "_uuid": "8f2839f25d086af736a60e9eeb907d3b93b6e0e5"
   },
   "outputs": [],
   "source": [
    "import pandas as pd\n",
    "import numpy as np\n",
    "import matplotlib.pyplot as plt\n",
    "import time                          \n",
    "from sklearn.metrics import accuracy_score\n"
   ]
  },
  {
   "cell_type": "code",
   "execution_count": 6,
   "metadata": {
    "_cell_guid": "79c7e3d0-c299-4dcb-8224-4455121ee9b0",
    "_uuid": "d629ff2d2480ee46fbb7e2d37f6b5fab8052498a",
    "scrolled": true
   },
   "outputs": [],
   "source": [
    "market_train = pd.read_csv('marketdata_sample.csv')"
   ]
  },
  {
   "cell_type": "code",
   "execution_count": 7,
   "metadata": {
    "_uuid": "5dfa1843dfece6fccfca91896ef85a332b55e3e6"
   },
   "outputs": [],
   "source": [
    "cat_cols = ['assetCode']\n",
    "num_cols = ['volume', 'close', 'open', 'returnsClosePrevRaw1', 'returnsOpenPrevRaw1', 'returnsClosePrevMktres1',\n",
    "                    'returnsOpenPrevMktres1', 'returnsClosePrevRaw10', 'returnsOpenPrevRaw10', 'returnsClosePrevMktres10',\n",
    "                    'returnsOpenPrevMktres10']\n",
    "\n"
   ]
  },
  {
   "cell_type": "code",
   "execution_count": null,
   "metadata": {},
   "outputs": [],
   "source": []
  },
  {
   "cell_type": "code",
   "execution_count": 8,
   "metadata": {
    "_uuid": "e108339134e95473b4a983237d58adb64c3ef64a"
   },
   "outputs": [],
   "source": [
    "from sklearn.model_selection import train_test_split\n",
    "\n",
    "train_indices, val_indices = train_test_split(market_train.index.values,test_size=0.25, random_state=23)\n"
   ]
  },
  {
   "cell_type": "markdown",
   "metadata": {
    "_uuid": "f51d00dc43857b446ae4a24b3718753f09040fd5"
   },
   "source": [
    "# Handling categorical variables"
   ]
  },
  {
   "cell_type": "code",
   "execution_count": 9,
   "metadata": {
    "_uuid": "301a65b834d8614a914883d49be1860550174f06"
   },
   "outputs": [
    {
     "name": "stdout",
     "output_type": "stream",
     "text": [
      "encoding assetCode ... Done\n"
     ]
    }
   ],
   "source": [
    "def encode(encoder, x):\n",
    "    len_encoder = len(encoder)\n",
    "    try:\n",
    "        id = encoder[x]\n",
    "    except KeyError:\n",
    "        id = len_encoder\n",
    "    return id\n",
    "\n",
    "encoders = [{} for cat in cat_cols]\n",
    "\n",
    "\n",
    "for i, cat in enumerate(cat_cols):\n",
    "    print('encoding %s ...' % cat, end=' ')\n",
    "    encoders[i] = {l: id for id, l in enumerate(market_train.loc[train_indices, cat].astype(str).unique())}\n",
    "    market_train[cat] = market_train[cat].astype(str).apply(lambda x: encode(encoders[i], x))\n",
    "    print('Done')\n",
    "\n",
    "embed_sizes = [len(encoder) + 1 for encoder in encoders] #+1 for possible unknown assets\n"
   ]
  },
  {
   "cell_type": "markdown",
   "metadata": {
    "_uuid": "397360cbacbcb294daf5e0750f471e13ced31978"
   },
   "source": [
    "# Handling numerical variables"
   ]
  },
  {
   "cell_type": "code",
   "execution_count": 10,
   "metadata": {
    "_uuid": "0e6c878e412b3e819e056cee40181b96fbac2f78"
   },
   "outputs": [
    {
     "name": "stdout",
     "output_type": "stream",
     "text": [
      "scaling numerical columns\n"
     ]
    }
   ],
   "source": [
    "from sklearn.preprocessing import StandardScaler\n",
    " \n",
    "market_train[num_cols] = market_train[num_cols].fillna(0)\n",
    "print('scaling numerical columns')\n",
    "\n",
    "scaler = StandardScaler()\n",
    "\n",
    "#col_mean = market_train[col].mean()\n",
    "#market_train[col].fillna(col_mean, inplace=True)\n",
    "scaler = StandardScaler()\n",
    "market_train[num_cols] = scaler.fit_transform(market_train[num_cols])\n"
   ]
  },
  {
   "cell_type": "markdown",
   "metadata": {
    "_uuid": "eae09951757845ad5bdf08e004e6477513ed739a"
   },
   "source": [
    "# Define NN Architecture"
   ]
  },
  {
   "cell_type": "code",
   "execution_count": null,
   "metadata": {},
   "outputs": [],
   "source": []
  },
  {
   "cell_type": "markdown",
   "metadata": {
    "_uuid": "68473e82a5e1ca3a97d0d89fbb8ac0bd5ca6ea57"
   },
   "source": [
    "Todo: add explanaition of architecture"
   ]
  },
  {
   "cell_type": "code",
   "execution_count": 11,
   "metadata": {
    "_uuid": "f8661c00b3363e610d2ed00fdb86b507a71a41c3"
   },
   "outputs": [
    {
     "name": "stderr",
     "output_type": "stream",
     "text": [
      "Using TensorFlow backend.\n",
      "WARNING: Logging before flag parsing goes to stderr.\n",
      "W0414 19:47:15.983043 139898576308032 deprecation.py:506] From /home/arturx/anaconda3/lib/python3.7/site-packages/tensorflow/python/training/moving_averages.py:210: calling Zeros.__init__ (from tensorflow.python.ops.init_ops) with dtype is deprecated and will be removed in a future version.\n",
      "Instructions for updating:\n",
      "Call initializer instance with the dtype argument instead of passing it to the constructor\n",
      "W0414 19:47:16.027273 139898576308032 deprecation.py:506] From /home/arturx/anaconda3/lib/python3.7/site-packages/keras/backend/tensorflow_backend.py:3445: calling dropout (from tensorflow.python.ops.nn_ops) with keep_prob is deprecated and will be removed in a future version.\n",
      "Instructions for updating:\n",
      "Please use `rate` instead of `keep_prob`. Rate should be set to `rate = 1 - keep_prob`.\n"
     ]
    }
   ],
   "source": [
    "from keras.models import Model\n",
    "from keras.layers import Dropout,Input, Dense, Embedding, Concatenate, Flatten, BatchNormalization\n",
    "from keras.losses import binary_crossentropy, mse\n",
    "\n",
    "categorical_inputs = []\n",
    "for cat in cat_cols:\n",
    "    categorical_inputs.append(Input(shape=[1], name=cat))\n",
    "\n",
    "categorical_embeddings = []\n",
    "for i, cat in enumerate(cat_cols):\n",
    "    categorical_embeddings.append(Embedding(embed_sizes[i], 10)(categorical_inputs[i]))\n",
    "\n",
    "#categorical_logits = Concatenate()([Flatten()(cat_emb) for cat_emb in categorical_embeddings])\n",
    "categorical_logits = Flatten()(categorical_embeddings[0])\n",
    "categorical_logits = Dense(32,activation='relu')(categorical_logits)\n",
    "\n",
    "numerical_inputs = Input(shape=(11,), name='num')\n",
    "numerical_logits = numerical_inputs\n",
    "numerical_logits = BatchNormalization()(numerical_logits)\n",
    "\n",
    "numerical_logits = Dense(128,activation='relu')(numerical_logits)\n",
    "\n",
    "numerical_logits = Dropout(0.3)(numerical_logits)\n",
    "numerical_logits = Dense(128,activation='relu')(numerical_logits)\n",
    "numerical_logits = Dropout(0.3)(numerical_logits)\n",
    "\n",
    "numerical_logits = Dense(128,activation='relu')(numerical_logits)\n",
    "numerical_logits = BatchNormalization()(numerical_logits)\n",
    "numerical_logits = Dropout(0.3)(numerical_logits)\n",
    "\n",
    "numerical_logits = Dense(128,activation='relu')(numerical_logits)\n",
    "numerical_logits = Dropout(0.3)(numerical_logits)\n",
    "\n",
    "numerical_logits = Dense(64,activation='relu')(numerical_logits)\n",
    "\n",
    "logits = Concatenate()([numerical_logits,categorical_logits])\n",
    "logits = Dense(64,activation='relu')(logits)\n",
    "out = Dense(1, activation='sigmoid')(logits)\n",
    "\n",
    "model = Model(inputs = categorical_inputs + [numerical_inputs], outputs=out)\n",
    "model.compile(optimizer='adam',loss=binary_crossentropy)"
   ]
  },
  {
   "cell_type": "code",
   "execution_count": 12,
   "metadata": {
    "_uuid": "07b70a8c6647dd6adc4ed2e1f1ce06b6f77b89a2"
   },
   "outputs": [
    {
     "name": "stdout",
     "output_type": "stream",
     "text": [
      "__________________________________________________________________________________________________\n",
      "Layer (type)                    Output Shape         Param #     Connected to                     \n",
      "==================================================================================================\n",
      "num (InputLayer)                (None, 11)           0                                            \n",
      "__________________________________________________________________________________________________\n",
      "batch_normalization_1 (BatchNor (None, 11)           44          num[0][0]                        \n",
      "__________________________________________________________________________________________________\n",
      "dense_2 (Dense)                 (None, 128)          1536        batch_normalization_1[0][0]      \n",
      "__________________________________________________________________________________________________\n",
      "dropout_1 (Dropout)             (None, 128)          0           dense_2[0][0]                    \n",
      "__________________________________________________________________________________________________\n",
      "dense_3 (Dense)                 (None, 128)          16512       dropout_1[0][0]                  \n",
      "__________________________________________________________________________________________________\n",
      "dropout_2 (Dropout)             (None, 128)          0           dense_3[0][0]                    \n",
      "__________________________________________________________________________________________________\n",
      "dense_4 (Dense)                 (None, 128)          16512       dropout_2[0][0]                  \n",
      "__________________________________________________________________________________________________\n",
      "batch_normalization_2 (BatchNor (None, 128)          512         dense_4[0][0]                    \n",
      "__________________________________________________________________________________________________\n",
      "dropout_3 (Dropout)             (None, 128)          0           batch_normalization_2[0][0]      \n",
      "__________________________________________________________________________________________________\n",
      "assetCode (InputLayer)          (None, 1)            0                                            \n",
      "__________________________________________________________________________________________________\n",
      "dense_5 (Dense)                 (None, 128)          16512       dropout_3[0][0]                  \n",
      "__________________________________________________________________________________________________\n",
      "embedding_1 (Embedding)         (None, 1, 10)        760         assetCode[0][0]                  \n",
      "__________________________________________________________________________________________________\n",
      "dropout_4 (Dropout)             (None, 128)          0           dense_5[0][0]                    \n",
      "__________________________________________________________________________________________________\n",
      "flatten_1 (Flatten)             (None, 10)           0           embedding_1[0][0]                \n",
      "__________________________________________________________________________________________________\n",
      "dense_6 (Dense)                 (None, 64)           8256        dropout_4[0][0]                  \n",
      "__________________________________________________________________________________________________\n",
      "dense_1 (Dense)                 (None, 32)           352         flatten_1[0][0]                  \n",
      "__________________________________________________________________________________________________\n",
      "concatenate_1 (Concatenate)     (None, 96)           0           dense_6[0][0]                    \n",
      "                                                                 dense_1[0][0]                    \n",
      "__________________________________________________________________________________________________\n",
      "dense_7 (Dense)                 (None, 64)           6208        concatenate_1[0][0]              \n",
      "__________________________________________________________________________________________________\n",
      "dense_8 (Dense)                 (None, 1)            65          dense_7[0][0]                    \n",
      "==================================================================================================\n",
      "Total params: 67,269\n",
      "Trainable params: 66,991\n",
      "Non-trainable params: 278\n",
      "__________________________________________________________________________________________________\n"
     ]
    }
   ],
   "source": [
    "# Lets print our model\n",
    "model.summary()"
   ]
  },
  {
   "cell_type": "code",
   "execution_count": 14,
   "metadata": {
    "_uuid": "cb217fc475f418f18720f87a0596aa23eddeb209"
   },
   "outputs": [],
   "source": [
    "def get_input(market_train, indices):\n",
    "    X_num = market_train.loc[indices, num_cols].values\n",
    "    X = {'num':X_num}\n",
    "    for cat in cat_cols:\n",
    "        X[cat] = market_train.loc[indices, cat_cols].values\n",
    "    y = (market_train.loc[indices,'returnsOpenNextMktres10'] >= 0).values\n",
    "    r = market_train.loc[indices,'returnsOpenNextMktres10'].values\n",
    "    u = market_train.loc[indices, 'universe']\n",
    "    d = market_train.loc[indices, 'time']\n",
    "    return X,y,r,u,d\n",
    "\n",
    "# r, u and d are used to calculate the scoring metric\n",
    "X_train,y_train,r_train,u_train,d_train = get_input(market_train, train_indices)\n",
    "X_valid,y_valid,r_valid,u_valid,d_valid = get_input(market_train, val_indices)"
   ]
  },
  {
   "cell_type": "markdown",
   "metadata": {
    "_uuid": "ecd18fe6d1a0ecf20678f94d7ba4746a7103b407"
   },
   "source": [
    "# Train NN model"
   ]
  },
  {
   "cell_type": "code",
   "execution_count": 16,
   "metadata": {
    "_uuid": "542f77f1f5675067d810614da9add097266b85a5"
   },
   "outputs": [
    {
     "name": "stdout",
     "output_type": "stream",
     "text": [
      "Train on 75 samples, validate on 25 samples\n",
      "Epoch 1/2\n",
      "75/75 [==============================] - 0s 210us/step - loss: 0.6454 - val_loss: 0.6637\n",
      "\n",
      "Epoch 00001: val_loss improved from inf to 0.66372, saving model to model.hdf5\n",
      "Epoch 2/2\n",
      "75/75 [==============================] - 0s 188us/step - loss: 0.6398 - val_loss: 0.6618\n",
      "\n",
      "Epoch 00002: val_loss improved from 0.66372 to 0.66183, saving model to model.hdf5\n",
      "CPU times: user 147 ms, sys: 7.66 ms, total: 155 ms\n",
      "Wall time: 132 ms\n"
     ]
    }
   ],
   "source": [
    "%%time\n",
    "from keras.callbacks import EarlyStopping, ModelCheckpoint\n",
    "\n",
    "check_point = ModelCheckpoint('model.hdf5',verbose=True, save_best_only=True)\n",
    "early_stop = EarlyStopping(patience=5,verbose=True)\n",
    "model.fit(X_train,y_train.astype(int),\n",
    "          validation_data=(X_valid,y_valid.astype(int)),\n",
    "          epochs=2,\n",
    "          verbose=True,\n",
    "          callbacks=[early_stop,check_point]) "
   ]
  },
  {
   "cell_type": "markdown",
   "metadata": {
    "_uuid": "460d68972755dff7c94d8f91fba7da2177c48ae7"
   },
   "source": [
    "# Evaluation of Validation Set"
   ]
  },
  {
   "cell_type": "code",
   "execution_count": 11,
   "metadata": {
    "_uuid": "bebb9c3a62ed462a3d64b24559e2f1d447886bca"
   },
   "outputs": [
    {
     "name": "stdout",
     "output_type": "stream",
     "text": [
      "0.5499367044475806\n"
     ]
    },
    {
     "data": {
      "image/png": "[encoded data removed]",
      "text/plain": [
       "<Figure size 432x288 with 1 Axes>"
      ]
     },
     "metadata": {},
     "output_type": "display_data"
    }
   ],
   "source": [
    "# distribution of confidence that will be used as submission\n",
    "model.load_weights('model.hdf5')\n",
    "confidence_valid = model.predict(X_valid)[:,0]*2 -1\n",
    "print(accuracy_score(confidence_valid>0,y_valid))\n",
    "plt.hist(confidence_valid, bins='auto')\n",
    "plt.title(\"predicted confidence\")\n",
    "plt.show()"
   ]
  },
  {
   "cell_type": "code",
   "execution_count": 12,
   "metadata": {
    "_uuid": "5d8097adcabf5794f04e4ec1f55f2993ef9176cb"
   },
   "outputs": [
    {
     "name": "stdout",
     "output_type": "stream",
     "text": [
      "0.6242531019010438\n"
     ]
    }
   ],
   "source": [
    "# calculation of actual metric that is used to calculate final score\n",
    "r_valid = r_valid.clip(-1,1) # get rid of outliers. Where do they come from??\n",
    "x_t_i = confidence_valid * r_valid * u_valid\n",
    "data = {'day' : d_valid, 'x_t_i' : x_t_i}\n",
    "df = pd.DataFrame(data)\n",
    "x_t = df.groupby('day').sum().values.flatten()\n",
    "mean = np.mean(x_t)\n",
    "std = np.std(x_t)\n",
    "score_valid = mean / std\n",
    "print(score_valid)"
   ]
  },
  {
   "cell_type": "markdown",
   "metadata": {
    "_uuid": "a556452e64bef6bee50b7e281ef65f2923c554a7"
   },
   "source": [
    "# Prediction"
   ]
  },
  {
   "cell_type": "code",
   "execution_count": 13,
   "metadata": {
    "_uuid": "f57d1b1d8cf8bea0594e0d699f1b849566ebad86"
   },
   "outputs": [],
   "source": [
    "days = env.get_prediction_days()"
   ]
  },
  {
   "cell_type": "code",
   "execution_count": 14,
   "metadata": {
    "_uuid": "0cea4e659153962bdf2062b0ca10943927549a26"
   },
   "outputs": [
    {
     "name": "stdout",
     "output_type": "stream",
     "text": [
      "1 2 3 4 5 6 7 8 9 10 11 12 13 14 15 16 17 18 19 20 21 22 23 24 25 26 27 28 29 30 31 32 33 34 35 36 37 38 39 40 41 42 43 44 45 46 47 48 49 50 51 52 53 54 55 56 57 58 59 60 61 62 63 64 65 66 67 68 69 70 71 72 73 74 75 76 77 78 79 80 81 82 83 84 85 86 87 88 89 90 91 92 93 94 95 96 97 98 99 100 101 102 103 104 105 106 107 108 109 110 111 112 113 114 115 116 117 118 119 120 121 122 123 124 125 126 127 128 129 130 131 132 133 134 135 136 137 138 139 140 141 142 143 144 145 146 147 148 149 150 151 152 153 154 155 156 157 158 159 160 161 162 163 164 165 166 167 168 169 170 171 172 173 174 175 176 177 178 179 180 181 182 183 184 185 186 187 188 189 190 191 192 193 194 195 196 197 198 199 200 201 202 203 204 205 206 207 208 209 210 211 212 213 214 215 216 217 218 219 220 221 222 223 224 225 226 227 228 229 230 231 232 233 234 235 236 237 238 239 240 241 242 243 244 245 246 247 248 249 250 251 252 253 254 255 256 257 258 259 260 261 262 263 264 265 266 267 268 269 270 271 272 273 274 275 276 277 278 279 280 281 282 283 284 285 286 287 288 289 290 291 292 293 294 295 296 297 298 299 300 301 302 303 304 305 306 307 308 309 310 311 312 313 314 315 316 317 318 319 320 321 322 323 324 325 326 327 328 329 330 331 332 333 334 335 336 337 338 339 340 341 342 343 344 345 346 347 348 349 350 351 352 353 354 355 356 357 358 359 360 361 362 363 364 365 366 367 368 369 370 371 372 373 374 375 376 377 378 379 380 381 382 383 384 385 386 387 388 389 390 391 392 393 394 395 396 397 398 399 400 401 402 403 404 405 406 407 408 409 410 411 412 413 414 415 416 417 418 419 420 421 422 423 424 425 426 427 428 429 430 431 432 433 434 435 436 437 438 439 440 441 442 443 444 445 446 447 448 449 450 451 452 453 454 455 456 457 458 459 460 461 462 463 464 465 466 467 468 469 470 471 472 473 474 475 476 477 478 479 480 481 482 483 484 485 486 487 488 489 490 491 492 493 494 495 496 497 498 499 500 501 502 503 504 505 506 507 508 509 510 511 512 513 514 515 516 517 518 519 520 521 522 523 524 525 526 527 528 529 530 531 532 533 534 535 536 537 538 539 540 541 542 543 544 545 546 547 548 549 550 551 552 553 554 555 556 557 558 559 560 561 562 563 564 565 566 567 568 569 570 571 572 573 574 575 576 577 578 579 580 581 582 583 584 585 586 587 588 589 590 591 592 593 594 595 596 597 598 599 600 601 602 603 604 605 606 607 608 609 610 611 612 613 614 615 616 617 618 619 620 621 622 623 624 625 626 627 628 629 630 631 632 633 634 635 Your submission file has been saved. Once you `Commit` your Kernel and it finishes running, you can submit the file to the competition from the Kernel Viewer `Output` tab.\n",
      "Preparing Data: 8.35s\n",
      "Making Predictions: 57.66s\n",
      "Packing: 5.04s\n",
      "Total: 71.04s\n"
     ]
    }
   ],
   "source": [
    "n_days = 0\n",
    "prep_time = 0\n",
    "prediction_time = 0\n",
    "packaging_time = 0\n",
    "predicted_confidences = np.array([])\n",
    "for (market_obs_df, news_obs_df, predictions_template_df) in days:\n",
    "    n_days +=1\n",
    "    print(n_days,end=' ')\n",
    "    \n",
    "    t = time.time()\n",
    "\n",
    "    market_obs_df['assetCode_encoded'] = market_obs_df[cat].astype(str).apply(lambda x: encode(encoders[i], x))\n",
    "\n",
    "    market_obs_df[num_cols] = market_obs_df[num_cols].fillna(0)\n",
    "    market_obs_df[num_cols] = scaler.transform(market_obs_df[num_cols])\n",
    "    X_num_test = market_obs_df[num_cols].values\n",
    "    X_test = {'num':X_num_test}\n",
    "    X_test['assetCode'] = market_obs_df['assetCode_encoded'].values\n",
    "    \n",
    "    prep_time += time.time() - t\n",
    "    \n",
    "    t = time.time()\n",
    "    market_prediction = model.predict(X_test)[:,0]*2 -1\n",
    "    predicted_confidences = np.concatenate((predicted_confidences, market_prediction))\n",
    "    prediction_time += time.time() -t\n",
    "    \n",
    "    t = time.time()\n",
    "    preds = pd.DataFrame({'assetCode':market_obs_df['assetCode'],'confidence':market_prediction})\n",
    "    # insert predictions to template\n",
    "    predictions_template_df = predictions_template_df.merge(preds,how='left').drop('confidenceValue',axis=1).fillna(0).rename(columns={'confidence':'confidenceValue'})\n",
    "    env.predict(predictions_template_df)\n",
    "    packaging_time += time.time() - t\n",
    "\n",
    "env.write_submission_file()\n",
    "total = prep_time + prediction_time + packaging_time\n",
    "print(f'Preparing Data: {prep_time:.2f}s')\n",
    "print(f'Making Predictions: {prediction_time:.2f}s')\n",
    "print(f'Packing: {packaging_time:.2f}s')\n",
    "print(f'Total: {total:.2f}s')"
   ]
  },
  {
   "cell_type": "code",
   "execution_count": 15,
   "metadata": {
    "_uuid": "c0b10b1ee21cfa2ff48b7ad2b7351382c03daeaa"
   },
   "outputs": [
    {
     "data": {
      "image/png": "[encoded data removed]",
      "text/plain": [
       "<Figure size 432x288 with 1 Axes>"
      ]
     },
     "metadata": {},
     "output_type": "display_data"
    }
   ],
   "source": [
    "# distribution of confidence as a sanity check: they should be distributed as above\n",
    "plt.hist(predicted_confidences, bins='auto')\n",
    "plt.title(\"predicted confidence\")\n",
    "plt.show()"
   ]
  }
 ],
 "metadata": {
  "kernelspec": {
   "display_name": "Python 3",
   "language": "python",
   "name": "python3"
  },
  "language_info": {
   "codemirror_mode": {
    "name": "ipython",
    "version": 3
   },
   "file_extension": ".py",
   "mimetype": "text/x-python",
   "name": "python",
   "nbconvert_exporter": "python",
   "pygments_lexer": "ipython3",
   "version": "3.7.3"
  }
 },
 "nbformat": 4,
 "nbformat_minor": 2
}
